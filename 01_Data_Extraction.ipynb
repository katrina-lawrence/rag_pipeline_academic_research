{
 "cells": [
  {
   "cell_type": "markdown",
   "metadata": {},
   "source": [
    "# Data Extraction\n",
    "Often times, we want to extract or scrape data from online resources of PDFs. The purpose of this project is to generate concise summaries for long documents or reports. This first step of data extraction is critical to obtain the text and manipulate it in such a way that the python program can read it."
   ]
  },
  {
   "cell_type": "markdown",
   "metadata": {},
   "source": [
    "## Extracting Text from an Online Article"
   ]
  },
  {
   "cell_type": "code",
   "execution_count": 2,
   "metadata": {},
   "outputs": [],
   "source": [
    "#installations\n",
    "#!pip install requests beautifulsoup4"
   ]
  },
  {
   "cell_type": "code",
   "execution_count": 4,
   "metadata": {},
   "outputs": [],
   "source": [
    "#imports\n",
    "import requests\n",
    "from bs4 import BeautifulSoup"
   ]
  },
  {
   "cell_type": "code",
   "execution_count": 5,
   "metadata": {},
   "outputs": [
    {
     "name": "stdout",
     "output_type": "stream",
     "text": [
      "\n",
      "\tFor most people, dinner on a cruise ship is a time to relax. \n",
      "\tBut when influencer couple Abby and Matt Howard decided to kick back with a dinner à deux, they ended up kicking up a storm. \n",
      "\tThe Arizona couple, who have 5.3 million followers on Tiktok, as well as 1.3 million and 677,000 Instagram followers individually, have had to furiously deny that they left their children alone on a cruise ship while enjoying their couple’s dinner. \n",
      "\tAbby Howard posted over the weekend on Instagram that on a seven-day cruise, the couple had taken their kids – aged one and two – to dinner for the first five nights, but “it became apparent that they weren’t enjoying it and therefore we weren’t either.” \n",
      "\t“So then we switched our dinner time to after their bedtime and FaceTimed the monitors while we ate,” she posted. \n",
      "\t“And that worked out muchhhh (sic) better for everyone!” \n",
      "\tMany followers understood her post as saying that they left the kids unattended in the cabin in order to go to dinner. When Howard deleted the post after a few hours, the suspicion only increased. \n",
      "\tThe couple have now posted a new video, in which they deny the children were left alone. They say that they were traveling with Abby’s extended family, including her grandmother. \n",
      "\t“We had someone with our children at all times on this boat,” said Matt Howard, calling people’s suspicions “completely untrue.” \n",
      "\t“We love our children more than anything in the entire world,” he said. \n",
      "\tAbby Howard admitted in the video that she could see why the phrasing of her initial post caused people to believe the kids had been left alone. She deleted it because of the confusion, she said. \n",
      "\tShe said that their two children sleep in “blackout tents” even at home, each of which has a space to fit a monitor – which they use even if the couple are in the room with them. \n",
      "\tMatt Howard had previously shared an Instagram video of his cabin, stating that the couple were sleeping in separate rooms, each with one child. \n",
      "\t“We’re always concerned about them,” said his wife on the video addressing the controversy, adding that they “tag team” at family dinners so that one parent is physically with the children while the other checks the monitors. \n",
      "\tThe couple thanked their family for helping to watch the children during the cruise, and also thanked the public. \n",
      "\t“Thank you so much to those of you that were concerned about the safety and wellbeing of our children,” said Abby Howard. \n",
      "\t“We have not, would not, will not ever leave our children unattended, we would never ever want to put them in harm’s way in any way.” \n",
      "\tCNN has contacted the Howards for comment. \n",
      "\tIt’s not known which cruise line the couple were traveling with, although Matt Thiemann, a cruise specialist travel agent and CEO of Everbliss Vacations, said he believes they were on Royal Caribbean’s Navigator of the Seas, which has a maximum capacity of 4,000 travelers, by the looks of their posts. \n",
      "\tMany cruise lines offer childcare options. \n",
      "\tRoyal Caribbean offers group childcare programs as well as group-sitting for three to 11-year-olds from 10 p.m. to 1 a.m. MSC Cruises has a kids’ club for tots until 9 p.m., with parents able to drop off their kids until 7 p.m., while Holland America Line states in its conditions that children must not be left alone anywhere on the ship. \n",
      "\tLeaving a child in a locked room may seem relatively safe, but Thiemann advises against it. \n",
      "\t“It is generally not safe for a child under eight to be left alone at home, and a cruise ship cabin is no different,” he said. “Parents might think it is a safe, locked space and while there are very strict procedures for accessing a cabin, there are cabin stewards, maintenance personnel and crew who can access the cabin. If it has a balcony there is greater risk of an accident or even becoming locked out on the balcony. \n",
      "\t“Toddlers can be inquisitive, fall out of bed onto the hard floor or choke on something. There are just too many unexpected things that could happen when children are left alone in a cruise cabin or hotel room.” Prime Minister Justin Trudeau has tapped Treasury Board President Anita Anand to take on additional duties as Canada's minister of transport.  Conservative Leader Pierre Poilievre and NDP Leader Jagmeet Singh got into a heated exchange in the House of Commons on Thursday, just minutes after Singh announced his party would not be supporting the Conservatives’ first non-confidence motion against Prime Minister Justin Trudeau’s government.  A majority of Canadians say we should accept fewer immigrants in 2025, with nearly three-quarters saying immigration should be reduced until housing becomes more affordable, according to a Nanos survey for CTV News.  CTV News has learned there are multiple Canadian women alleging they were victims of sexual abuse at the hands of the late Harrods boss Mohamed Al Fayed.  Quebec Premier Francois Legault is calling on the Bloc Quebecois to topple the Trudeau government next Wednesday and trigger a federal election.  For most people, dinner on a cruise ship is a time to relax. But when influencer couple Abby and Matt Howard decided to kick back with a dinner à deux, they ended up kicking up a storm.  The University of Ottawa's special advisor on antisemitism says he has resigned following posts he made on social media celebrating the pager explosions in Lebanon this week.  The mayor of Fort Saskatchewan apologized on Thursday for comments she made earlier this week about killing feral cats.  The leader of Hezbollah vowed to keep up daily strikes on Israel despite this week's mass bombing attack on its communication devices, and said Israelis displaced by the fighting from homes near the Lebanon border would not be able to return until the war in Gaza ends.  The University of Ottawa's special advisor on antisemitism says he has resigned following posts he made on social media celebrating the pager explosions in Lebanon this week.  A special ceremony at the Canadian Embassy in Rome marked the successful recovery of an iconic portrait of Winston Churchill after a two-year search by Ottawa police.  The mayor of Fort Saskatchewan apologized on Thursday for comments she made earlier this week about killing feral cats.  Lacing up skates to hit the ice on any one of Canada's lakes may be a common winter pastime for some, but a new study suggests it may be increasingly 'potentially unstable and unsafe' to play a game of pick-up hockey on the frozen water.  The Red Bridge, a historic landmark in Kamloops, B.C., was completely destroyed by fire early Thursday morning.  Nearly 138,000 platform beds sold at major retailers including Amazon and Walmart are being recalled across the U.S. and Canada because they can collapse, posing fall and injury risks.  A 22-year-old woman who became an abortion rights advocate after she was raped by her stepfather as a child tells her story in a new campaign ad for Democratic presidential nominee Kamala Harris.  South Korea’s government, western countries and adoption agencies worked in tandem to supply some 200,000 Korean children to parents overseas, despite years of evidence they were being procured through questionable or downright unscrupulous means, an investigation led by The Associated Press found.  In the quiet corners of Springfield, Ohio — out of sight of the drumbeat of politicians and journalists, troopers and newly installed security cameras — the people who live here are taking a breath, praying and attempting to carry on.  Three days after an SUV crashed into a liquid natural gas pipeline, starting a fire that has been burning ever since, police say human remains were recovered from the vehicle on Thursday.  Nearly 138,000 platform beds sold at major retailers including Amazon and Walmart are being recalled across the U.S. and Canada because they can collapse, posing fall and injury risks.  The leader of Hezbollah vowed to keep up daily strikes on Israel despite this week's mass bombing attack on its communication devices, and said Israelis displaced by the fighting from homes near the Lebanon border would not be able to return until the war in Gaza ends.  Conservative Leader Pierre Poilievre and NDP Leader Jagmeet Singh got into a heated exchange in the House of Commons on Thursday, just minutes after Singh announced his party would not be supporting the Conservatives’ first non-confidence motion against Prime Minister Justin Trudeau’s government.  Prime Minister Justin Trudeau has tapped Treasury Board President Anita Anand to take on additional duties as Canada's minister of transport.  Quebec Premier Francois Legault is calling on the Bloc Quebecois to topple the Trudeau government next Wednesday and trigger a federal election.  Ontario’s Minister of Sport, Neil Lumsden, will donate his brain to research.  Manitobans are getting another reminder of how long wait times are for diagnostic images.  A new strain of the virus is spreading, largely through skin-to-skin contact, including but not limited to sex. A lack of funds, vaccines and information is making it difficult to stem the spread, according to alarmed disease experts.  Thanks to a special Texas law, NASA's Butch Wilmore and Suni Williams, the two veteran astronauts, will still be able to perform their civic duty, voting absentee from low-Earth orbit for the U.S. election in November.  Lebanese authorities on Thursday banned walkie-talkies and pagers from being taken on flights from Beirut airport, the National News Agency reported, after thousands of such devices exploded during a deadly attack on Hezbollah this week.  NASA scientists have successfully replicated spider-like shapes found on the surface of Mars in a laboratory setting for the first time.  British actress Florence Pugh has revealed that shaving her head for her latest movie role was a 'really bizarre' experience that sent her body 'into a bit of trauma.'  Demi Lovato is highlighting the need for stronger protections for emerging child performers in her new Hulu documentary \"Child Star.\"  The beleaguered Hot Docs Film Festival says it will reopen its flagship Toronto theatre on a limited basis as it embarks on a search for a new leader this fall.  Maple Leaf Foods asserted its innocence in an alleged bread price-fixing scheme ahead of a hearing to determine whether it will be added to an ongoing class-action lawsuit.  Canada Goose Holdings Inc. says it has signed a deal that will result in the creation of its first eyewear collection.  TD Bank Group, which is mired in a money laundering scandal in the U.S., says chief executive Bharat Masrani will retire next year.  For most people, dinner on a cruise ship is a time to relax. But when influencer couple Abby and Matt Howard decided to kick back with a dinner à deux, they ended up kicking up a storm.  Trips can make lifelong memories when they go off without a hitch, but cancellations and rescheduled events are common because of artist illnesses, poor ticket sales, security threats, unruly weather and natural disasters.  Only a month after Thailand's adorable baby hippo Moo Deng was unveiled on Facebook, her fame became unstoppable.  Vancouver Canucks goalie Thatcher Demko says he's been working his way back from a rare lower-body muscle injury since being sidelined in last season's playoffs.  Toronto Blue Jays shortstop Bo Bichette returned to the 10-day injured list Thursday due to a right middle finger fracture.  Alysha Newman was initially disappointed when her historic season, marked by an Olympic medal and record-breaking performances, came to a close.  Video of a brazen daylight auto theft which shows a suspect running over a victim in a stolen luxury SUV has been released by police west of Toronto.  The plant was expected to produce batteries for a million electric vehicles a year. Once up and running, it was supposed to create hundreds of permanent jobs in a small southeastern Ontario municipality. But two years later, spending on the construction of the Umicore plant has been delayed in what the company calls a \"significant worsening of the EV market context.\"  A Winnipeg man is asking for help after a classic car that has been a part of his family since the 1950s was stolen from his garage.  Paleontologists from the Royal B.C. Museum have uncovered \"a trove of extraordinary fossils\" high in the mountains of northern B.C., the museum announced Thursday.  The search for a missing ancient 28-year-old chocolate donkey ended with a tragic discovery Wednesday.  The Royal Canadian Mounted Police is celebrating an important milestone in the organization's history: 50 years since the first women joined the force.  It's been a whirlwind of joyful events for a northern Ontario couple who just welcomed a baby into their family and won the $70 million Lotto Max jackpot last month.  A Good Samaritan in New Brunswick has replaced a man's stolen bottle cart so he can continue to collect cans and bottles in his Moncton neighbourhood.  David Krumholtz, known for roles like Bernard the Elf in The Santa Clause and physicist Isidor Rabi in Oppenheimer, has spent the latter part of his summer filming horror flick Altar in Winnipeg. He says Winnipeg is the most movie-savvy town he's ever been in.  Edmontonians can count themselves lucky to ever see one tiger salamander, let alone the thousands one local woman says recently descended on her childhood home.  A daytrip to the backcountry turned into a frightening experience for a Vancouver couple this weekend.  If you take a look to the right of Hilda Duddridge’s 100th birthday cake, you’ll see a sculpture of a smiling girl extending her arms forward.  In one of the final speeches he makes before the provincial election campaign period formally begins, Premier David Eby promised a gathering of B.C.'s mayors that he would continue to work closely with them if he's returned to government, but didn't make any last-minute spending announcements.  The Union of B.C. Municipalities is asking the provincial government to make transit free for teenagers.  The Red Bridge, a historic landmark in Kamloops, B.C., was completely destroyed by fire early Thursday morning.  Toronto police are asking for the public's help identifying a person who is suspected to be involved in Tuesday's fatal double shooting in North York.  Students across York Region will once again see uniformed officers at school, however police and board officials say they will only be stopping by for the occasional safety presentation.  Police have identified the two men killed in an early Wednesday morning shooting at a park north of Toronto. York Regional Police (YRP) say officers were called to Bayview Park, near Bayview and Lowndes avenues in Keswick, Ont., just before 7:30 a.m. for a report of shots fired.  The Parole Board of Canada says a man who assaulted a young pregnant woman and left her for dead remains too dangerous to be released into the community.  A Calgary pharmacist has been suspended by the Alberta College of Pharmacy (ACP) after they found she had accessed a person's electronic health records (Netcare) without \"any authorized purpose.\"  A heavy police presence could be seen at a property in the southeast Calgary community of Valleyfield on Wednesday.  The daughter of a man accused of killing her mother and of trying to kill her in a stabbing attack in Ottawa's west end in June 2021 took the stand at his trial Thursday.  Two teenage girls are facing assault charges and three other girls will be \"facing consequences\" under the Youth Criminal Justice Act following the assault of a girl at a Pembroke, Ont. school, according to police.  The University of Ottawa's special advisor on antisemitism says he has resigned following posts he made on social media celebrating the pager explosions in Lebanon this week.  Quebec Premier Francois Legault is calling on the Bloc Quebecois to topple the Trudeau government next Wednesday and trigger a federal election.  Friends and strangers have set up a makeshift memorial outside the home of a five-year-old boy who was found dead yesterday in Coteau-du-lac.  Public services in Quebec are becoming dehumanized, warns Quebec Ombudsman Marc-André Dowd in his 2023-2024 annual report, which is filled with concrete examples.  The mayor of Fort Saskatchewan apologized on Thursday for comments she made earlier this week about killing feral cats.  The Alberta government will provide $149 million for Jasper's recovery from a wildfire that burned one third of its townsite, the province announced on Thursday.  A 26-year-old man was killed in an impaired driving crash in Jasper National Thursday morning, RCMP say.  New Brunswick Premier Blaine Higgs has called for a provincial election. Voters will go to the polls on Oct. 21, as prescribed by the province's fixed-date election law.  The head of a committee monitoring the government's response to the inquiry into the 2020 Nova Scotia mass killing says she's pleased with progress made so far.  Police are asking people to avoid the Dartmouth Commons area in Dartmouth, N.S., as they assist with a wildlife call for a bear.  Shamattawa RCMP are searching for a missing six-year-old boy who hasn’t been seen since Wednesday morning.  After a soggy, chaotic few days in Manitoba, more severe thunderstorms could be on the way to parts of the province on Thursday.  The Southern Chiefs' Organization (SCO) is launching a Charter challenge to have Lake Winnipeg declared a living being, claiming that the province and Manitoba Hydro are damaging the lake with development.  Environment and Climate Change Canada (ECCC) has confirmed a tornado touched down Wednesday evening near Langbank, Sask.  Following the success of their 'I Gotch You' campaign, Rally Around Homelessness officially launched a new program called 'Fresh Start.'  Saskatchewan's harvest is 74 per cent complete, compared to 61 per cent last week, according to the latest crop report from the province.  New details have been shared about a missing family that was last seen on Sept. 1 in Kitchener, Ont.  Ontario Provincial Police shared photos Thursday of a clandestine drug lab discovered in Walkerton.  A police officer in Brantford has been charged with obstructing justice, stemming from incident in 2022.  Thomas Hamp says he believed secret police were out to kidnap, torture, and kill him when he fatally stabbed his girlfriend Emily Sanche in February of 2022.  A 14-year-old student who allegedly set her classmate on fire is facing a new charge.  Police have arrested and charged two women following an armed robbery at a store in Saskatoon Thursday morning.  Fire officials in Greater Sudbury are concerned about a recent increase in the number of wildfires in the area.  One person is dead and another is in hospital with serious, life-threatening injuries after a crash involving a commercial and passenger vehicle on Highway 101 west of Timmins on Wednesday afternoon.  James Bay Ontario Provincial Police have charged four commercial vehicle drivers with impaired, including one who was hauling 36,000 kilograms of ammonia hydrate.  Damage is estimated around $500,000. Police said the investigation is in its early stages and more information will be provided when it becomes available.  Police were focusing their attention on the northeast corner of Richmond and Horton, with members of the emergency response unit taking up positions at the scene.  Pediatric oncology nurses Kaitlyn Earley and Kaeleigh Wightman have walked the hallways of the children's hospital many times - not just as employees but as patients too.  Two men from Barrie have been charged after a deadly shooting at a park in Keswick on Wednesday.  Police closed an area in Orillia to investigate reports of a suspicious man walking with a gun Thursday morning.  A growing group of brides and wedding photographers from across the province say they have been taken for tens of thousands of dollars by a Barrie, Ont. wedding photographer.  An active investigation is underway on Ottawa Street, east of Kildare Road.  Windsor firefighters responded to a vacant building fire on Wednesday night.  St. Clair College and Alienware Gaming have teamed up to open the country’s first Alienware Gaming Lab at the college in the Esports Nexus Arena.  An agreement between First Nations and the British Columbia government will see thousands of homes made available in Vancouver at 40-per-cent below cost.  The Red Bridge, a historic landmark in Kamloops, B.C., was completely destroyed by fire early Thursday morning.  If the lead up to British Columbia's provincial election campaign is any indication of what’s to come, voters should expect the unexpected.  The Red Bridge, a historic landmark in Kamloops, B.C., was completely destroyed by fire early Thursday morning.  Animal protection officers in British Columbia have rescued three pit bulls – including one that gave birth to 10 puppies – from a rat-infested home in Kelowna.  More than a year after a missing Kamloops, B.C., woman’s body was found, her son has been arrested and charged with her murder, Mounties announced Friday.  A Lethbridge couple got a good reminder as to why you should keep your vehicle doors locked at all times.  Lethbridge residents who live near the police range can expect to hear plenty of shots fired Wednesday and Thursday.  The City of Lethbridge's encampment response team continues to see a rise in the number of people experiencing homelessness throughout the summer months.  North Bay Police Service says one person has died following an industrial accident at the Ontario Northland Transportation Commission Rail Yard on Tuesday.  Three northern Ontario residents are charged with drug trafficking after the vehicle they were in got stuck along a bush road off Highway 17 on Monday.  A 50-year-old man in the Sault has been charged following an assault on Saturday that involved the use of a hammer.  Newfoundland and Labrador's chief medical officer is monitoring the rise of whooping cough infections across the province as cases of the highly contagious disease continue to grow across Canada.  A 16-year-old biennial event aimed at fostering business in the country's eastern Arctic and northern regions has been cancelled indefinitely as a dispute unfolds between Inuit in Canada and a Labrador group claiming to share their heritage.  Jim Lester’s farm hopped on the cow-cuddling trend in early August, and his time slots have been pretty well sold out ever since.  The Shopping Trends team is independent of the journalists at CTV News. We may earn a commission when you use our links to shop. Read about us. © 2024 \n",
      "\n",
      " All rights reserved. Use of this Website assumes acceptance of Terms & Conditions and Privacy Policy\n"
     ]
    }
   ],
   "source": [
    "#Function to extract text from a web page\n",
    "def extract_text_from_url(url):\n",
    "    \n",
    "    #sending a request to fetch the web page\n",
    "    response = requests.get(url)\n",
    "\n",
    "    #need to check is the request was successful\n",
    "    if response.status_code == 200:\n",
    "        #parse the page content using BeautifulSoup\n",
    "        soup = BeautifulSoup(response.content, 'html.parser')\n",
    "\n",
    "        #extract the main content from the article (usually inside <p> tags)\n",
    "        paragraphs = soup.find_all('p')\n",
    "\n",
    "        #combine the text from all paragraphs\n",
    "        article_text = ' '.join([p.get_text() for p in paragraphs])\n",
    "        \n",
    "        #returning the text from the article as a string\n",
    "        return article_text\n",
    "\n",
    "    else:\n",
    "        return \"Failed to retrieve the webpage.\"\n",
    "\n",
    "\n",
    "#Example usage\n",
    "url = \"https://www.ctvnews.ca/lifestyle/influencer-couple-denies-leaving-kids-alone-on-cruise-1.7044439\"\n",
    "\n",
    "article_text = extract_text_from_url(url)\n",
    "\n",
    "print(article_text)"
   ]
  },
  {
   "cell_type": "markdown",
   "metadata": {},
   "source": [
    "## Extracting Text from a PDF Document"
   ]
  },
  {
   "cell_type": "code",
   "execution_count": 10,
   "metadata": {},
   "outputs": [],
   "source": [
    "#installations\n",
    "#!pip install PyPDF2 pdfplumber"
   ]
  },
  {
   "cell_type": "code",
   "execution_count": 11,
   "metadata": {},
   "outputs": [],
   "source": [
    "#imports\n",
    "import pdfplumber"
   ]
  },
  {
   "cell_type": "code",
   "execution_count": 12,
   "metadata": {},
   "outputs": [],
   "source": [
    "#Function to extract text from a PDF using pdfplumber\n",
    "def extract_text_from_pdf_with_plumber(pdf_file_path):\n",
    "    with pdfplumber.open(pdf_file_path) as pdf:\n",
    "        pdf_text = \"\"\n",
    "        for page in pdf.pages:\n",
    "            pdf_text += page.extract_text()\n",
    "        return pdf_text\n",
    "\n",
    "   "
   ]
  },
  {
   "cell_type": "code",
   "execution_count": null,
   "metadata": {},
   "outputs": [],
   "source": [
    "#Example usage\n",
    "pdf_file_path = \"sample.pdf\"\n",
    "pdf_text = extract_text_from_pdf_with_plumber(pdf_file_path)\n",
    "print(pdf_text)"
   ]
  }
 ],
 "metadata": {
  "kernelspec": {
   "display_name": "Python 3",
   "language": "python",
   "name": "python3"
  },
  "language_info": {
   "codemirror_mode": {
    "name": "ipython",
    "version": 3
   },
   "file_extension": ".py",
   "mimetype": "text/x-python",
   "name": "python",
   "nbconvert_exporter": "python",
   "pygments_lexer": "ipython3",
   "version": "3.11.9"
  }
 },
 "nbformat": 4,
 "nbformat_minor": 2
}
